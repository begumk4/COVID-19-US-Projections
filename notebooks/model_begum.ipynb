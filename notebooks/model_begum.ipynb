{
 "cells": [
  {
   "cell_type": "code",
   "execution_count": 1,
   "metadata": {},
   "outputs": [
    {
     "name": "stdout",
     "output_type": "stream",
     "text": [
      "TensorFlow version: 2.2.0\n",
      "Eager execution: True\n"
     ]
    }
   ],
   "source": [
    "import pandas as pd\n",
    "import matplotlib as mpl\n",
    "import matplotlib.pyplot as plt\n",
    "import plotnine as p9\n",
    "import mizani\n",
    "import numpy as np\n",
    "from sklearn.preprocessing import StandardScaler, OneHotEncoder, LabelEncoder\n",
    "from sklearn.model_selection import ParameterGrid\n",
    "from sklearn.metrics import mean_absolute_error\n",
    "import sklearn.model_selection as CrossValidate\n",
    "from matplotlib.pyplot import rcParams\n",
    "\n",
    "\n",
    "plt.style.use('ggplot')\n",
    "\n",
    "from sklearn.ensemble import RandomForestRegressor\n",
    "from sklearn.svm import SVR\n",
    "\n",
    "import tensorflow as tf\n",
    "from tensorflow.keras.models import Sequential\n",
    "from tensorflow.keras.layers import Dense\n",
    "from tensorflow.keras.wrappers.scikit_learn import KerasRegressor\n",
    "from sklearn.model_selection import cross_val_score\n",
    "from sklearn.model_selection import KFold\n",
    "\n",
    "from patsy import dmatrices\n",
    "import statsmodels.api as sm\n",
    "\n",
    "\n",
    "print(\"TensorFlow version: {}\".format(tf.__version__))\n",
    "print(\"Eager execution: {}\".format(tf.executing_eagerly()))\n",
    "tf.keras.backend.set_floatx('float64')"
   ]
  },
  {
   "cell_type": "code",
   "execution_count": 2,
   "metadata": {},
   "outputs": [],
   "source": [
    "## Define Poisson loss and gradient\n",
    "\n",
    "def loss(model, x, y, training):\n",
    "    # training=training is needed only if there are layers with different\n",
    "    # behavior during training versus inference (e.g. Dropout).\n",
    "    logits = model(x, training=training)\n",
    "\n",
    "    return tf.keras.losses.poisson(y,logits)\n",
    "\n",
    "\n",
    "## Gradient tape lets TF know with respect to what to take gradients\n",
    "def grad(model, inputs, targets):\n",
    "    with tf.GradientTape() as tape:\n",
    "        loss_value = loss(model, inputs, targets, training=True)\n",
    "    return loss_value, tape.gradient(loss_value, model.trainable_variables)"
   ]
  },
  {
   "cell_type": "code",
   "execution_count": 22,
   "metadata": {},
   "outputs": [],
   "source": [
    "#standardizer function which standardizes the numerical data and encodes the categorical data with One hot encoding\n",
    "def standardize_fit2 (Xin):\n",
    "    #standadizing the numercial values\n",
    "    scaler = StandardScaler()\n",
    "    X = Xin.values[:,1:4]\n",
    "    scaler.fit(X)\n",
    "\n",
    "    #standadizing the categorical values\n",
    "    encoder = OneHotEncoder(sparse=False)\n",
    "    X = Xin.values[:,0].reshape(-1, 1)\n",
    "    encoder.fit(X)\n",
    "    categories= encoder.categories_\n",
    "\n",
    "    return categories, scaler, encoder \n",
    "\n",
    "def standardize_transfrom2( Xin, scaler, encoder):\n",
    "    X = Xin.values[:,1:4]\n",
    "    X_std_num = np.asarray(scaler.transform(X)).astype(np.float64)\n",
    "    X = Xin.values[:,0].reshape(-1, 1)\n",
    "    X_std_cat =  encoder.transform(X)\n",
    "    return np.concatenate((X_std_cat, X_std_num),axis=1)"
   ]
  },
  {
   "cell_type": "code",
   "execution_count": 44,
   "metadata": {},
   "outputs": [
    {
     "name": "stdout",
     "output_type": "stream",
     "text": [
      "(436, 6)\n",
      "(436, 2)\n",
      "(104, 6)\n",
      "(104, 2)\n"
     ]
    }
   ],
   "source": [
    "#importing the train set\n",
    "X_tr = pd.read_csv('../data/X_weekly_tr.csv')   \n",
    "y_tr = pd.read_csv('../data/y_weekly_change_tr.csv') \n",
    "print(X_tr.shape)\n",
    "print(y_tr.shape)\n",
    "\n",
    "#importing the test set\n",
    "X_te = pd.read_csv('../data/X_weekly_te.csv')   \n",
    "y_te = pd.read_csv('../data/y_weekly_change_te.csv') \n",
    "print(X_te.shape)\n",
    "print(y_te.shape)"
   ]
  },
  {
   "cell_type": "code",
   "execution_count": 45,
   "metadata": {},
   "outputs": [],
   "source": [
    "train_timestamps = X_tr['Date'].values\n",
    "test_timestamps = X_te['Date'].values"
   ]
  },
  {
   "cell_type": "code",
   "execution_count": 46,
   "metadata": {},
   "outputs": [],
   "source": [
    "X_tr = X_tr.drop(['Date'], axis=1)\n",
    "y_tr = y_tr.drop(['Date'], axis=1)\n",
    "X_te = X_te.drop(['Date'], axis=1)\n",
    "y_te = y_te.drop(['Date'], axis=1)"
   ]
  },
  {
   "cell_type": "code",
   "execution_count": 47,
   "metadata": {},
   "outputs": [
    {
     "name": "stdout",
     "output_type": "stream",
     "text": [
      "number of nulls left is  0\n",
      "number of nulls left is  0\n"
     ]
    }
   ],
   "source": [
    "# just to make sure if any Null is left\n",
    "print (\"number of nulls left is \", len(X_tr[X_tr.isnull().values == True].head()))\n",
    "print (\"number of nulls left is \", len(X_te[X_te.isnull().values == True].head()))"
   ]
  },
  {
   "cell_type": "code",
   "execution_count": 60,
   "metadata": {},
   "outputs": [
    {
     "data": {
      "text/html": [
       "<div>\n",
       "<style scoped>\n",
       "    .dataframe tbody tr th:only-of-type {\n",
       "        vertical-align: middle;\n",
       "    }\n",
       "\n",
       "    .dataframe tbody tr th {\n",
       "        vertical-align: top;\n",
       "    }\n",
       "\n",
       "    .dataframe thead th {\n",
       "        text-align: right;\n",
       "    }\n",
       "</style>\n",
       "<table border=\"1\" class=\"dataframe\">\n",
       "  <thead>\n",
       "    <tr style=\"text-align: right;\">\n",
       "      <th></th>\n",
       "      <th>Province_State</th>\n",
       "      <th>Weekly_Avg_Pct_Home</th>\n",
       "      <th>Elapsed_Days</th>\n",
       "      <th>Incident_Rate_Last_week</th>\n",
       "      <th>Incident_Rate_Pct_Change_Last_week</th>\n",
       "    </tr>\n",
       "  </thead>\n",
       "  <tbody>\n",
       "    <tr>\n",
       "      <th>0</th>\n",
       "      <td>Arizona</td>\n",
       "      <td>27.624795</td>\n",
       "      <td>0</td>\n",
       "      <td>0.013739</td>\n",
       "      <td>0.0</td>\n",
       "    </tr>\n",
       "    <tr>\n",
       "      <th>1</th>\n",
       "      <td>Illinois</td>\n",
       "      <td>25.986911</td>\n",
       "      <td>0</td>\n",
       "      <td>0.015783</td>\n",
       "      <td>1.0</td>\n",
       "    </tr>\n",
       "    <tr>\n",
       "      <th>2</th>\n",
       "      <td>California</td>\n",
       "      <td>25.540295</td>\n",
       "      <td>0</td>\n",
       "      <td>0.007593</td>\n",
       "      <td>0.5</td>\n",
       "    </tr>\n",
       "    <tr>\n",
       "      <th>3</th>\n",
       "      <td>Washington</td>\n",
       "      <td>27.401260</td>\n",
       "      <td>0</td>\n",
       "      <td>0.013132</td>\n",
       "      <td>0.0</td>\n",
       "    </tr>\n",
       "    <tr>\n",
       "      <th>4</th>\n",
       "      <td>California</td>\n",
       "      <td>23.975602</td>\n",
       "      <td>0</td>\n",
       "      <td>0.015185</td>\n",
       "      <td>1.0</td>\n",
       "    </tr>\n",
       "  </tbody>\n",
       "</table>\n",
       "</div>"
      ],
      "text/plain": [
       "  Province_State  Weekly_Avg_Pct_Home  Elapsed_Days  Incident_Rate_Last_week  \\\n",
       "0        Arizona            27.624795             0                 0.013739   \n",
       "1       Illinois            25.986911             0                 0.015783   \n",
       "2     California            25.540295             0                 0.007593   \n",
       "3     Washington            27.401260             0                 0.013132   \n",
       "4     California            23.975602             0                 0.015185   \n",
       "\n",
       "   Incident_Rate_Pct_Change_Last_week  \n",
       "0                                 0.0  \n",
       "1                                 1.0  \n",
       "2                                 0.5  \n",
       "3                                 0.0  \n",
       "4                                 1.0  "
      ]
     },
     "execution_count": 60,
     "metadata": {},
     "output_type": "execute_result"
    }
   ],
   "source": [
    "#X_tr = X_tr.reset_index()\n",
    "X_tr.head()"
   ]
  },
  {
   "cell_type": "code",
   "execution_count": null,
   "metadata": {},
   "outputs": [],
   "source": []
  },
  {
   "cell_type": "code",
   "execution_count": 49,
   "metadata": {},
   "outputs": [
    {
     "name": "stdout",
     "output_type": "stream",
     "text": [
      "(104, 55)\n",
      "(436, 55)\n"
     ]
    }
   ],
   "source": [
    "#standardizing the test data from the previously fitted standardizers\n",
    "#X_te_std1 = standardize_transfrom1(X_te, scaler, encoder1)\n",
    "categories, scaler, encoder2 = standardize_fit2(X_te)\n",
    "X_te_std2 = standardize_transfrom2(X_te, scaler, encoder2)\n",
    "categories, scaler, encoder2 = standardize_fit2(X_tr)\n",
    "X_tr_std2 = standardize_transfrom2(X_tr, scaler, encoder2)\n",
    "# using the standardized data with sparse matrix for the categorized data (One hot encoded)\n",
    "X_te_std = X_te_std2\n",
    "X_tr_std = X_tr_std2\n",
    "print(X_te_std.shape)\n",
    "print(X_tr_std.shape)"
   ]
  },
  {
   "cell_type": "code",
   "execution_count": 50,
   "metadata": {},
   "outputs": [],
   "source": [
    "train_dataset = tf.data.Dataset.from_tensor_slices((X_tr_std,y_tr))\n",
    "test_dataset = tf.data.Dataset.from_tensor_slices((X_te_std,y_te))\n",
    "\n",
    "batch_size = 32\n",
    "\n",
    "#train_dataset_house = train_dataset_house.shuffle(buffer_size=len(X_tr))\n",
    "train_dataset = train_dataset.batch(batch_size)\n",
    "#test_dataset_house = test_dataset_house.shuffle(buffer_size=len(X_te))\n",
    "test_dataset= test_dataset.batch(batch_size)"
   ]
  },
  {
   "cell_type": "code",
   "execution_count": null,
   "metadata": {},
   "outputs": [],
   "source": []
  },
  {
   "cell_type": "code",
   "execution_count": 52,
   "metadata": {},
   "outputs": [],
   "source": [
    "model = tf.keras.Sequential([\n",
    "  tf.keras.layers.Dense(64,activation=\"sigmoid\"), \n",
    "  tf.keras.layers.Dense(32,activation=\"sigmoid\"), \n",
    "  tf.keras.layers.Dense(1, activation='relu')\n",
    "])"
   ]
  },
  {
   "cell_type": "code",
   "execution_count": 53,
   "metadata": {},
   "outputs": [
    {
     "name": "stdout",
     "output_type": "stream",
     "text": [
      "Model: \"sequential_1\"\n",
      "_________________________________________________________________\n",
      "Layer (type)                 Output Shape              Param #   \n",
      "=================================================================\n",
      "dense_3 (Dense)              multiple                  3584      \n",
      "_________________________________________________________________\n",
      "dense_4 (Dense)              multiple                  2080      \n",
      "_________________________________________________________________\n",
      "dense_5 (Dense)              multiple                  33        \n",
      "=================================================================\n",
      "Total params: 5,697\n",
      "Trainable params: 5,697\n",
      "Non-trainable params: 0\n",
      "_________________________________________________________________\n"
     ]
    }
   ],
   "source": [
    "logits = model(X_tr_std)\n",
    "model.summary()"
   ]
  },
  {
   "cell_type": "code",
   "execution_count": 54,
   "metadata": {},
   "outputs": [
    {
     "name": "stdout",
     "output_type": "stream",
     "text": [
      "Epoch 000: Loss: 1.226\n",
      "Epoch 100: Loss: -0.023\n",
      "Epoch 200: Loss: -0.172\n",
      "Epoch 300: Loss: -0.238\n",
      "Epoch 400: Loss: -0.261\n",
      "Epoch 500: Loss: -0.292\n",
      "Epoch 600: Loss: -0.353\n",
      "Epoch 700: Loss: -0.389\n",
      "Epoch 800: Loss: -0.415\n",
      "Epoch 900: Loss: -0.430\n"
     ]
    }
   ],
   "source": [
    "## Training Model\n",
    "train_loss_results = []\n",
    "train_accuracy_results = []\n",
    "num_epochs = 1000\n",
    "\n",
    "\n",
    "optimizer = tf.keras.optimizers.Adam()\n",
    "\n",
    "for epoch in range(num_epochs):\n",
    "    epoch_loss_avg = tf.keras.metrics.Mean()\n",
    "    epoch_accuracy = tf.keras.metrics.MeanAbsoluteError()\n",
    "    \n",
    "    # Training loop - using batches of 32\n",
    "    for x, y in train_dataset:\n",
    "        # Optimize the model\n",
    "        loss_value, grads = grad(model, x, y)\n",
    "        optimizer.apply_gradients(zip(grads, model.trainable_variables))       \n",
    "\n",
    "        # Track progress\n",
    "        epoch_loss_avg.update_state(loss_value)  # Add current batch loss\n",
    "        epoch_accuracy.update_state(y, model(x, training=True))\n",
    "\n",
    "    # End epoch\n",
    "    train_loss_results.append(epoch_loss_avg.result())\n",
    "    train_accuracy_results.append(epoch_accuracy.result())\n",
    "\n",
    "    if epoch % 100 == 0:\n",
    "        print(\"Epoch {:03d}: Loss: {:.3f}\".format(epoch,epoch_loss_avg.result()))\n",
    "\n"
   ]
  },
  {
   "cell_type": "code",
   "execution_count": 55,
   "metadata": {},
   "outputs": [
    {
     "data": {
      "image/png": "[encoded data removed]",
      "text/plain": [
       "<Figure size 864x576 with 2 Axes>"
      ]
     },
     "metadata": {},
     "output_type": "display_data"
    }
   ],
   "source": [
    "fig, axes = plt.subplots(2, sharex=True, figsize=(12, 8))\n",
    "fig.suptitle('Training Metrics for Model1_1 with ReLu Activation, 1 hidden layer')\n",
    "\n",
    "axes[0].set_ylabel(\"Poisson Loss\", fontsize=14)\n",
    "axes[0].plot(train_loss_results)\n",
    "\n",
    "axes[1].set_ylabel(\"MAE\", fontsize=14)\n",
    "axes[1].set_xlabel(\"Epoch\", fontsize=14)\n",
    "axes[1].plot(train_accuracy_results)\n",
    "plt.show()"
   ]
  },
  {
   "cell_type": "code",
   "execution_count": 56,
   "metadata": {},
   "outputs": [],
   "source": [
    "## Compute test loss\n",
    "test_loss_results = []\n",
    "test_accuracy_results = []\n",
    "\n",
    "test_loss_avg = tf.keras.metrics.Mean()\n",
    "test_accuracy = tf.keras.metrics.MeanAbsoluteError()\n",
    "for (x, y) in test_dataset:\n",
    "    # training=False is needed only if there are layers with different\n",
    "    # behavior during training versus inference (e.g. Dropout). = \n",
    "    y_pred = model(x, training=False)\n",
    "    test_loss_avg.update_state(loss(model, x, y, training=False))\n",
    "    test_accuracy.update_state(y, model(x, training=False))\n",
    "test_loss_results.append(test_loss_avg.result())\n",
    "test_accuracy_results.append(test_accuracy.result())\n"
   ]
  },
  {
   "cell_type": "code",
   "execution_count": 57,
   "metadata": {},
   "outputs": [
    {
     "name": "stdout",
     "output_type": "stream",
     "text": [
      "Test set MAE Model1: 0.97516\n",
      "Test set Poisson Loss Model1: 1.1468\n"
     ]
    }
   ],
   "source": [
    "print(\"Test set MAE Model{:01d}: {:.5}\".format(1,test_accuracy_results[0]))\n",
    "print(\"Test set Poisson Loss Model{:01d}: {:.5}\".format(1,test_loss_results[0]))"
   ]
  },
  {
   "cell_type": "code",
   "execution_count": null,
   "metadata": {},
   "outputs": [],
   "source": []
  },
  {
   "cell_type": "code",
   "execution_count": null,
   "metadata": {},
   "outputs": [],
   "source": []
  }
 ],
 "metadata": {
  "kernelspec": {
   "display_name": "Python 3",
   "language": "python",
   "name": "python3"
  },
  "language_info": {
   "codemirror_mode": {
    "name": "ipython",
    "version": 3
   },
   "file_extension": ".py",
   "mimetype": "text/x-python",
   "name": "python",
   "nbconvert_exporter": "python",
   "pygments_lexer": "ipython3",
   "version": "3.7.0"
  }
 },
 "nbformat": 4,
 "nbformat_minor": 4
}
