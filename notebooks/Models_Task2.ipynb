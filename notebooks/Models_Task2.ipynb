{
  "cells": [
    {
      "cell_type": "markdown",
      "metadata": {
        "id": "QMjVpADVTepp",
        "colab_type": "text"
      },
      "source": [
        "## PREDICTION TASK 2 (Using the Weekly Data)\n",
        "\n",
        "This model uses the weekly dataset that has new additional features like Weekly_Avg_Pct_Home, Incident_Rate_Last_week, Incident_Rate_Pct_Change_Last_week. However due to categorizing the data week by week, the input dataset is smaller than the daily dataset. The goal of the model is to predict top 20 states that will see most change in incident rate over a period of 2 weeks between May 10-24.\n",
        "The logic here is that by having an element of history as the memory of the trend, we can estimate changes of incident rate for the next week better."
      ]
    },
    {
      "cell_type": "code",
      "metadata": {
        "id": "vS8CCkULTepr",
        "colab_type": "code",
        "colab": {
          "base_uri": "https://localhost:8080/",
          "height": 51
        },
        "outputId": "2b97924c-1f61-430c-8c10-9941178c997a"
      },
      "source": [
        "import pandas as pd\n",
        "import matplotlib as mpl\n",
        "import matplotlib.pyplot as plt\n",
        "import plotnine as p9\n",
        "import mizani\n",
        "import numpy as np\n",
        "from sklearn.preprocessing import StandardScaler, OneHotEncoder, LabelEncoder\n",
        "from sklearn.model_selection import ParameterGrid\n",
        "from sklearn.metrics import mean_absolute_error\n",
        "import sklearn.model_selection as CrossValidate\n",
        "from matplotlib.pyplot import rcParams\n",
        "from sklearn.metrics import mean_absolute_error\n",
        "\n",
        "plt.style.use('ggplot')\n",
        "\n",
        "from sklearn.ensemble import RandomForestRegressor\n",
        "from sklearn.svm import SVR\n",
        "\n",
        "import tensorflow as tf\n",
        "from tensorflow.keras.models import Sequential\n",
        "from tensorflow.keras.layers import Dense\n",
        "from tensorflow.keras.wrappers.scikit_learn import KerasRegressor\n",
        "from sklearn.model_selection import cross_val_score\n",
        "from sklearn.model_selection import KFold\n",
        "\n",
        "from patsy import dmatrices\n",
        "import statsmodels.api as sm\n",
        "\n",
        "\n",
        "print(\"TensorFlow version: {}\".format(tf.__version__))\n",
        "print(\"Eager execution: {}\".format(tf.executing_eagerly()))\n",
        "tf.keras.backend.set_floatx('float64')"
      ],
      "execution_count": 1,
      "outputs": [
        {
          "output_type": "stream",
          "text": [
            "TensorFlow version: 2.2.0\n",
            "Eager execution: True\n"
          ],
          "name": "stdout"
        }
      ]
    },
    {
      "cell_type": "code",
      "metadata": {
        "id": "W9qfnxj3Tepz",
        "colab_type": "code",
        "colab": {}
      },
      "source": [
        "#standardizer function which standardizes the numerical data and encodes the categorical data with One hot encoding\n",
        "def standardize_fit2 (Xin):\n",
        "    #standadizing the numercial values\n",
        "    scaler = StandardScaler()\n",
        "    X = Xin.values[:,1:]\n",
        "    scaler.fit(X)\n",
        "\n",
        "    #standadizing the categorical values\n",
        "    encoder = OneHotEncoder(sparse=False)\n",
        "    X = Xin.values[:,0].reshape(-1, 1)\n",
        "    encoder.fit(X)\n",
        "    categories= encoder.categories_\n",
        "\n",
        "    return categories, scaler, encoder \n",
        "\n",
        "def standardize_transfrom2( Xin, scaler, encoder):\n",
        "    X = Xin.values[:,1:]\n",
        "    X_std_num = np.asarray(scaler.transform(X)).astype(np.float64)\n",
        "    X = Xin.values[:,0].reshape(-1, 1)\n",
        "    X_std_cat =  encoder.transform(X)\n",
        "    return np.concatenate((X_std_cat, X_std_num),axis=1)"
      ],
      "execution_count": 0,
      "outputs": []
    },
    {
      "cell_type": "code",
      "metadata": {
        "id": "4o9ZdQpeTep2",
        "colab_type": "code",
        "colab": {}
      },
      "source": [
        "#importing the train set\n",
        "X_tr = pd.read_csv('../data/X_weekly_tr.csv')   \n",
        "y_tr = pd.read_csv('../data/y_weekly_change_tr.csv') \n",
        "\n",
        "#importing the test set\n",
        "X_te = pd.read_csv('../data/X_weekly_te.csv')   \n",
        "y_te = pd.read_csv('../data/y_weekly_change_te.csv') "
      ],
      "execution_count": 0,
      "outputs": []
    },
    {
      "cell_type": "code",
      "metadata": {
        "id": "EM4uL7f_Tep5",
        "colab_type": "code",
        "colab": {}
      },
      "source": [
        "train_timestamps = X_tr['Date'].values\n",
        "test_timestamps = X_te['Date'].values"
      ],
      "execution_count": 0,
      "outputs": []
    },
    {
      "cell_type": "code",
      "metadata": {
        "id": "4C4I-3PQTep7",
        "colab_type": "code",
        "colab": {}
      },
      "source": [
        "X_tr = X_tr.drop(['Date'], axis=1)\n",
        "y_tr = y_tr.drop(['Date'], axis=1)\n",
        "X_te = X_te.drop(['Date'], axis=1)\n",
        "y_te = y_te.drop(['Date'], axis=1)"
      ],
      "execution_count": 0,
      "outputs": []
    },
    {
      "cell_type": "code",
      "metadata": {
        "id": "Ai6304jPTep_",
        "colab_type": "code",
        "colab": {
          "base_uri": "https://localhost:8080/",
          "height": 51
        },
        "outputId": "065c418e-c62b-45c1-e873-f29f50123c3b"
      },
      "source": [
        "# just to make sure if any Null is left\n",
        "print (\"number of nulls left in X_tr is \", len(X_tr[X_tr.isnull().values == True].head()))\n",
        "print (\"number of nulls left in X_te is \", len(X_te[X_te.isnull().values == True].head()))"
      ],
      "execution_count": 6,
      "outputs": [
        {
          "output_type": "stream",
          "text": [
            "number of nulls left in X_tr is  0\n",
            "number of nulls left in X_te is  0\n"
          ],
          "name": "stdout"
        }
      ]
    },
    {
      "cell_type": "code",
      "metadata": {
        "id": "3mj2GtuRTeqH",
        "colab_type": "code",
        "colab": {
          "base_uri": "https://localhost:8080/",
          "height": 297
        },
        "outputId": "9c34df5c-8e3b-4193-e827-6810cf1d11b5"
      },
      "source": [
        "X_tr.describe()"
      ],
      "execution_count": 7,
      "outputs": [
        {
          "output_type": "execute_result",
          "data": {
            "text/html": [
              "<div>\n",
              "<style scoped>\n",
              "    .dataframe tbody tr th:only-of-type {\n",
              "        vertical-align: middle;\n",
              "    }\n",
              "\n",
              "    .dataframe tbody tr th {\n",
              "        vertical-align: top;\n",
              "    }\n",
              "\n",
              "    .dataframe thead th {\n",
              "        text-align: right;\n",
              "    }\n",
              "</style>\n",
              "<table border=\"1\" class=\"dataframe\">\n",
              "  <thead>\n",
              "    <tr style=\"text-align: right;\">\n",
              "      <th></th>\n",
              "      <th>Weekly_Avg_Pct_Home</th>\n",
              "      <th>Elapsed_Days</th>\n",
              "      <th>Incident_Rate_Last_week</th>\n",
              "      <th>Incident_Rate_Pct_Change_Last_week</th>\n",
              "    </tr>\n",
              "  </thead>\n",
              "  <tbody>\n",
              "    <tr>\n",
              "      <th>count</th>\n",
              "      <td>436.000000</td>\n",
              "      <td>436.000000</td>\n",
              "      <td>436.000000</td>\n",
              "      <td>436.000000</td>\n",
              "    </tr>\n",
              "    <tr>\n",
              "      <th>mean</th>\n",
              "      <td>36.968382</td>\n",
              "      <td>29.350917</td>\n",
              "      <td>115.964551</td>\n",
              "      <td>2.897401</td>\n",
              "    </tr>\n",
              "    <tr>\n",
              "      <th>std</th>\n",
              "      <td>6.596189</td>\n",
              "      <td>17.847071</td>\n",
              "      <td>212.076329</td>\n",
              "      <td>4.995127</td>\n",
              "    </tr>\n",
              "    <tr>\n",
              "      <th>min</th>\n",
              "      <td>21.758841</td>\n",
              "      <td>0.000000</td>\n",
              "      <td>0.003449</td>\n",
              "      <td>0.000000</td>\n",
              "    </tr>\n",
              "    <tr>\n",
              "      <th>25%</th>\n",
              "      <td>32.912088</td>\n",
              "      <td>14.000000</td>\n",
              "      <td>6.271094</td>\n",
              "      <td>0.333152</td>\n",
              "    </tr>\n",
              "    <tr>\n",
              "      <th>50%</th>\n",
              "      <td>37.020951</td>\n",
              "      <td>29.000000</td>\n",
              "      <td>45.478209</td>\n",
              "      <td>0.857425</td>\n",
              "    </tr>\n",
              "    <tr>\n",
              "      <th>75%</th>\n",
              "      <td>41.261225</td>\n",
              "      <td>45.000000</td>\n",
              "      <td>121.404014</td>\n",
              "      <td>3.256551</td>\n",
              "    </tr>\n",
              "    <tr>\n",
              "      <th>max</th>\n",
              "      <td>61.343387</td>\n",
              "      <td>67.000000</td>\n",
              "      <td>1626.514549</td>\n",
              "      <td>34.000000</td>\n",
              "    </tr>\n",
              "  </tbody>\n",
              "</table>\n",
              "</div>"
            ],
            "text/plain": [
              "       Weekly_Avg_Pct_Home  ...  Incident_Rate_Pct_Change_Last_week\n",
              "count           436.000000  ...                          436.000000\n",
              "mean             36.968382  ...                            2.897401\n",
              "std               6.596189  ...                            4.995127\n",
              "min              21.758841  ...                            0.000000\n",
              "25%              32.912088  ...                            0.333152\n",
              "50%              37.020951  ...                            0.857425\n",
              "75%              41.261225  ...                            3.256551\n",
              "max              61.343387  ...                           34.000000\n",
              "\n",
              "[8 rows x 4 columns]"
            ]
          },
          "metadata": {
            "tags": []
          },
          "execution_count": 7
        }
      ]
    },
    {
      "cell_type": "code",
      "metadata": {
        "id": "6hpzBSaKTeqM",
        "colab_type": "code",
        "colab": {
          "base_uri": "https://localhost:8080/",
          "height": 297
        },
        "outputId": "aecf0d48-8c74-460a-bbc2-e355e85c76af"
      },
      "source": [
        "y_tr.describe()"
      ],
      "execution_count": 8,
      "outputs": [
        {
          "output_type": "execute_result",
          "data": {
            "text/html": [
              "<div>\n",
              "<style scoped>\n",
              "    .dataframe tbody tr th:only-of-type {\n",
              "        vertical-align: middle;\n",
              "    }\n",
              "\n",
              "    .dataframe tbody tr th {\n",
              "        vertical-align: top;\n",
              "    }\n",
              "\n",
              "    .dataframe thead th {\n",
              "        text-align: right;\n",
              "    }\n",
              "</style>\n",
              "<table border=\"1\" class=\"dataframe\">\n",
              "  <thead>\n",
              "    <tr style=\"text-align: right;\">\n",
              "      <th></th>\n",
              "      <th>Weekly_Incident_Rate_Pct_Change</th>\n",
              "    </tr>\n",
              "  </thead>\n",
              "  <tbody>\n",
              "    <tr>\n",
              "      <th>count</th>\n",
              "      <td>436.000000</td>\n",
              "    </tr>\n",
              "    <tr>\n",
              "      <th>mean</th>\n",
              "      <td>1.753532</td>\n",
              "    </tr>\n",
              "    <tr>\n",
              "      <th>std</th>\n",
              "      <td>3.187174</td>\n",
              "    </tr>\n",
              "    <tr>\n",
              "      <th>min</th>\n",
              "      <td>0.000000</td>\n",
              "    </tr>\n",
              "    <tr>\n",
              "      <th>25%</th>\n",
              "      <td>0.254785</td>\n",
              "    </tr>\n",
              "    <tr>\n",
              "      <th>50%</th>\n",
              "      <td>0.500422</td>\n",
              "    </tr>\n",
              "    <tr>\n",
              "      <th>75%</th>\n",
              "      <td>1.890815</td>\n",
              "    </tr>\n",
              "    <tr>\n",
              "      <th>max</th>\n",
              "      <td>31.000000</td>\n",
              "    </tr>\n",
              "  </tbody>\n",
              "</table>\n",
              "</div>"
            ],
            "text/plain": [
              "       Weekly_Incident_Rate_Pct_Change\n",
              "count                       436.000000\n",
              "mean                          1.753532\n",
              "std                           3.187174\n",
              "min                           0.000000\n",
              "25%                           0.254785\n",
              "50%                           0.500422\n",
              "75%                           1.890815\n",
              "max                          31.000000"
            ]
          },
          "metadata": {
            "tags": []
          },
          "execution_count": 8
        }
      ]
    },
    {
      "cell_type": "code",
      "metadata": {
        "id": "VdL1L3DJTeqR",
        "colab_type": "code",
        "colab": {}
      },
      "source": [
        "#standardizing the train and test data from the previously fitted standardizers\n",
        "# using the standardized data with sparse matrix for the categorized data (One hot encoded)\n",
        "categories, scaler, encoder2 = standardize_fit2(X_tr)\n",
        "X_tr_std = standardize_transfrom2(X_tr, scaler, encoder2)\n",
        "X_te_std = standardize_transfrom2(X_te, scaler, encoder2)"
      ],
      "execution_count": 0,
      "outputs": []
    },
    {
      "cell_type": "code",
      "metadata": {
        "id": "HEjPUq8hTeqU",
        "colab_type": "code",
        "colab": {}
      },
      "source": [
        "train_dataset = tf.data.Dataset.from_tensor_slices((X_tr_std,y_tr.values))\n",
        "test_dataset = tf.data.Dataset.from_tensor_slices((X_te_std,y_te.values))\n",
        "\n",
        "batch_size = 8\n",
        "\n",
        "train_dataset = train_dataset.batch(batch_size)\n",
        "test_dataset= test_dataset.batch(batch_size)\n",
        "\n",
        "X,y = next(iter(train_dataset))\n",
        "_, num_features = X.shape"
      ],
      "execution_count": 0,
      "outputs": []
    },
    {
      "cell_type": "code",
      "metadata": {
        "id": "G-sBWI2mTepx",
        "colab_type": "code",
        "colab": {}
      },
      "source": [
        "## Define Poisson loss and gradient\n",
        "\n",
        "def loss(model, x, y, training):\n",
        "    # training=training is needed only if there are layers with different\n",
        "    # behavior during training versus inference (e.g. Dropout).\n",
        "    logits = model(x, training=training)\n",
        "\n",
        "    return tf.keras.losses.poisson(y,logits)\n",
        "\n",
        "## Gradient tape lets TF know with respect to what to take gradients\n",
        "def grad(model, inputs, targets):\n",
        "    with tf.GradientTape() as tape:\n",
        "        loss_value = loss(model, inputs, targets, training=True)\n",
        "    return loss_value, tape.gradient(loss_value, model.trainable_variables)"
      ],
      "execution_count": 0,
      "outputs": []
    },
    {
      "cell_type": "code",
      "metadata": {
        "id": "QF0t7BgpTeqX",
        "colab_type": "code",
        "colab": {}
      },
      "source": [
        "# these are the proposed Artificial Neural Network Architectures for this prediction Task\n",
        "early_stop_delta = 0.001\n",
        "early_stop_patience = 100\n",
        "num_epochs = 300\n",
        "\n",
        "models =[]\n",
        "\n",
        "model = tf.keras.Sequential([\n",
        "  tf.keras.layers.Dense(64, input_dim= num_features, activation=\"relu\"), \n",
        "  tf.keras.layers.Dense(32, activation=\"relu\"),\n",
        "  tf.keras.layers.Dense(1, activation=\"sigmoid\")\n",
        "])\n",
        "models.append(model)\n",
        "\n",
        "model = tf.keras.Sequential([\n",
        "  tf.keras.layers.Dense(64, input_dim= num_features, activation=\"sigmoid\"), \n",
        "  tf.keras.layers.Dense(32, activation=\"sigmoid\"),\n",
        "  tf.keras.layers.Dense(1, activation=\"sigmoid\")\n",
        "])\n",
        "models.append(model)\n",
        "\n",
        "model = tf.keras.Sequential([\n",
        "  tf.keras.layers.Dense(64, input_dim= num_features, activation=\"relu\"), \n",
        "  tf.keras.layers.Dense(1, activation=\"sigmoid\")\n",
        "])\n",
        "models.append(model)\n",
        "\n",
        "model = tf.keras.Sequential([\n",
        "  tf.keras.layers.Dense(64, input_dim= num_features, activation=\"sigmoid\"), \n",
        "  tf.keras.layers.Dense(1, activation=\"sigmoid\")\n",
        "])\n",
        "models.append(model)\n",
        "\n",
        "model = tf.keras.Sequential([\n",
        "  tf.keras.layers.Dense(32, input_dim= num_features, activation=\"relu\"), \n",
        "  tf.keras.layers.Dense(1, activation=\"sigmoid\")\n",
        "])\n",
        "models.append(model)\n",
        "\n",
        "model = tf.keras.Sequential([\n",
        "  tf.keras.layers.Dense(32, input_dim= num_features, activation=\"sigmoid\"), \n",
        "  tf.keras.layers.Dense(1, activation=\"sigmoid\")\n",
        "])\n",
        "models.append(model)"
      ],
      "execution_count": 0,
      "outputs": []
    },
    {
      "cell_type": "code",
      "metadata": {
        "id": "GJpgP5ufTeqZ",
        "colab_type": "code",
        "colab": {
          "base_uri": "https://localhost:8080/",
          "height": 306
        },
        "outputId": "7d4def6c-36bb-422f-f8ad-59bd9ee3a3a0"
      },
      "source": [
        "## Training Model\n",
        "# we have set up early stopping by looking at the training loss. The maximum epoch count is 300\n",
        "# Unfortunately due to having a timestamped data, the crossvalidation isn't easy, so we are only training on the training set and early stop will help with not overfittig\n",
        "\n",
        "histories=[]\n",
        "scores= []\n",
        "\n",
        "prevLoss = np.Inf\n",
        "best_score = np.Inf\n",
        "\n",
        "patience_cnt = 0\n",
        "\n",
        "m = 0\n",
        "for model in models:\n",
        "    history= {}\n",
        "    train_loss_results = []\n",
        "    train_accuracy_results = []\n",
        "    optimizer = tf.keras.optimizers.Adam()\n",
        "    for epoch in range(num_epochs):\n",
        "        epoch_loss_avg = tf.keras.metrics.Mean()\n",
        "        epoch_accuracy = tf.keras.metrics.MeanAbsoluteError()\n",
        "        \n",
        "        # Training loop - using batches of 8\n",
        "        for x, y in train_dataset:\n",
        "            # Optimize the model\n",
        "            loss_value, grads = grad(model, x, y)\n",
        "            optimizer.apply_gradients(zip(grads, model.trainable_variables))       \n",
        "\n",
        "            # Track progress\n",
        "            epoch_loss_avg.update_state(loss_value)  # Add current batch loss\n",
        "            epoch_accuracy.update_state(y, model(x, training= True))\n",
        "        # End epoch\n",
        "        train_loss_results.append(epoch_loss_avg.result())\n",
        "        train_accuracy_results.append(epoch_accuracy.result())\n",
        "        # Early stopping monitor\n",
        "        if np.abs(train_loss_results[-1].numpy() - prevLoss) < early_stop_delta:\n",
        "            patience_cnt += 1\n",
        "        else:\n",
        "            prevLoss = train_loss_results[-1].numpy()\n",
        "            # patience_cnt = 0           \n",
        "        if patience_cnt >= early_stop_patience:\n",
        "            break\n",
        "\n",
        "    history['loss'] = train_loss_results\n",
        "    history['mae'] = train_accuracy_results\n",
        "    histories.append(history)\n",
        "    y_pred = model(x, training= False)\n",
        "    score = mean_absolute_error(y_true= y, y_pred= y_pred)\n",
        "    scores.append(score)\n",
        "    if score < best_score:\n",
        "        best_score = score\n",
        "        best_model = model\n",
        "        best_history = history\n",
        "        best_model_index = m\n",
        "    m += 1    \n",
        "\n",
        "print(\"Mean Abosulte Error score of the best model: %0.5f\" % best_score )\n",
        "print(\"best model index is:\", best_model_index)\n",
        "print(\"best model:\", best_model.summary())"
      ],
      "execution_count": 13,
      "outputs": [
        {
          "output_type": "stream",
          "text": [
            "Mean Abosulte Error score of the best model: 0.02739\n",
            "best model index is: 0\n",
            "Model: \"sequential\"\n",
            "_________________________________________________________________\n",
            "Layer (type)                 Output Shape              Param #   \n",
            "=================================================================\n",
            "dense (Dense)                (None, 64)                3648      \n",
            "_________________________________________________________________\n",
            "dense_1 (Dense)              (None, 32)                2080      \n",
            "_________________________________________________________________\n",
            "dense_2 (Dense)              (None, 1)                 33        \n",
            "=================================================================\n",
            "Total params: 5,761\n",
            "Trainable params: 5,761\n",
            "Non-trainable params: 0\n",
            "_________________________________________________________________\n",
            "best model: None\n"
          ],
          "name": "stdout"
        }
      ]
    },
    {
      "cell_type": "markdown",
      "metadata": {
        "id": "eHxH6D8c3jO5",
        "colab_type": "text"
      },
      "source": [
        "### The first model in the set of our models is the best model with the least Mean Absolute error of the incident rate percentage change with the test set. This model has two hidden layer with 64 and 32 nodes and both with ReLU activatoin functions. The last layer for all models has Sigmoid activation function. The reason is that the output of this Prediction task is a percentage and thus a number between 0 and 1."
      ]
    },
    {
      "cell_type": "code",
      "metadata": {
        "id": "1wgkjz8vTeqc",
        "colab_type": "code",
        "colab": {
          "base_uri": "https://localhost:8080/",
          "height": 558
        },
        "outputId": "efabe6e6-10b0-492b-832e-623455be1be0"
      },
      "source": [
        "fig, axes = plt.subplots(2, sharex=True, figsize=(12, 8))\n",
        "fig.suptitle('Training Metrics for the best  Model')\n",
        "\n",
        "axes[0].set_ylabel(\"Poisson Loss\", fontsize=14)\n",
        "axes[0].plot(best_history['loss'])\n",
        "\n",
        "axes[1].set_ylabel(\"Mean Absolute Error\", fontsize=14)\n",
        "axes[1].set_xlabel(\"Epoch\", fontsize=14)\n",
        "axes[1].plot(best_history['mae'])\n",
        "plt.show()"
      ],
      "execution_count": 14,
      "outputs": [
        {
          "output_type": "display_data",
          "data": {
            "image/png": "[encoded data removed]",
            "text/plain": [
              "<Figure size 864x576 with 2 Axes>"
            ]
          },
          "metadata": {
            "tags": [],
            "needs_background": "light"
          }
        }
      ]
    },
    {
      "cell_type": "code",
      "metadata": {
        "id": "lSwU-15FTeqe",
        "colab_type": "code",
        "colab": {}
      },
      "source": [
        "# a Funciton to create a dataset with X and the prediction of X\n",
        "def x_with_preds(X,model):\n",
        "    x_df = pd.DataFrame(X.numpy())\n",
        "    preds = (model(X,training=False)).numpy()\n",
        "    x_df['pred'] = preds\n",
        "    return x_df"
      ],
      "execution_count": 0,
      "outputs": []
    },
    {
      "cell_type": "code",
      "metadata": {
        "id": "lYyaWTiVTeqh",
        "colab_type": "code",
        "colab": {}
      },
      "source": [
        "## Compute test loss for the best model\n",
        "test_loss_results = []\n",
        "test_accuracy_results = []\n",
        "\n",
        "model = best_model\n",
        "test_loss_avg = tf.keras.metrics.Mean()\n",
        "test_accuracy = tf.keras.metrics.MeanAbsoluteError()\n",
        "for (x, y) in test_dataset:\n",
        "    # training=False is needed only if there are layers with different\n",
        "    # behavior during training versus inference (e.g. Dropout). = \n",
        "    test_loss_avg.update_state(loss(model, x, y, training=False))\n",
        "    test_accuracy.update_state(y, model(x, training=False))\n",
        "test_loss_results.append(test_loss_avg.result())\n",
        "test_accuracy_results.append(test_accuracy.result())"
      ],
      "execution_count": 0,
      "outputs": []
    },
    {
      "cell_type": "code",
      "metadata": {
        "id": "_3R0t9vyTeqk",
        "colab_type": "code",
        "colab": {
          "base_uri": "https://localhost:8080/",
          "height": 51
        },
        "outputId": "4ab870d3-cfb1-4abb-e784-b8d599a29723"
      },
      "source": [
        "print(\"Test set MAE of best Model: {:.5}\".format(test_accuracy_results[0]))\n",
        "print(\"Test set Poisson Loss of best Model: {:.5}\".format(test_loss_results[0]))"
      ],
      "execution_count": 17,
      "outputs": [
        {
          "output_type": "stream",
          "text": [
            "Test set MAE of best Model: 0.037441\n",
            "Test set Poisson Loss of best Model: 0.41738\n"
          ],
          "name": "stdout"
        }
      ]
    },
    {
      "cell_type": "code",
      "metadata": {
        "id": "hg5YevPLTeqp",
        "colab_type": "code",
        "colab": {}
      },
      "source": [
        "# Creating a combined dataset with the input and the predictions and then picking the top 20 states with the highest change in the incident rate percentage\n",
        "pred_df = pd.concat(x_with_preds(x,model) for (x,y) in test_dataset)\n",
        "values_pred,indices_pred = tf.math.top_k(pred_df['pred'],k=104)\n",
        "indices_pred = np.asarray(indices_pred)\n",
        "\n",
        "values,indices = tf.math.top_k(y_te['Weekly_Incident_Rate_Pct_Change'],k=104)\n",
        "indices = np.asarray(indices)\n",
        "\n",
        "top20 = pd.DataFrame()\n",
        "top20['Predicted_Province_State'] = pd.Series([X_te.loc[i,'Province_State'] for i in indices_pred]).unique()[0:20]\n",
        "top20['Actual_Province_State'] = pd.Series([X_te.loc[i,'Province_State'] for i in indices]).unique()[0:20]"
      ],
      "execution_count": 0,
      "outputs": []
    },
    {
      "cell_type": "code",
      "metadata": {
        "id": "g39ydl1VTeqs",
        "colab_type": "code",
        "colab": {
          "base_uri": "https://localhost:8080/",
          "height": 686
        },
        "outputId": "f64a5233-08e8-4e30-d544-9d56e719b13c"
      },
      "source": [
        "print('Top 20 States with highest incident rate change between May 10 to May 24')\n",
        "top20"
      ],
      "execution_count": 20,
      "outputs": [
        {
          "output_type": "stream",
          "text": [
            "Top 20 States with highest incident rate change between May 10 to May 24\n"
          ],
          "name": "stdout"
        },
        {
          "output_type": "execute_result",
          "data": {
            "text/html": [
              "<div>\n",
              "<style scoped>\n",
              "    .dataframe tbody tr th:only-of-type {\n",
              "        vertical-align: middle;\n",
              "    }\n",
              "\n",
              "    .dataframe tbody tr th {\n",
              "        vertical-align: top;\n",
              "    }\n",
              "\n",
              "    .dataframe thead th {\n",
              "        text-align: right;\n",
              "    }\n",
              "</style>\n",
              "<table border=\"1\" class=\"dataframe\">\n",
              "  <thead>\n",
              "    <tr style=\"text-align: right;\">\n",
              "      <th></th>\n",
              "      <th>Predicted_Province_State</th>\n",
              "      <th>Actual_Province_State</th>\n",
              "    </tr>\n",
              "  </thead>\n",
              "  <tbody>\n",
              "    <tr>\n",
              "      <th>0</th>\n",
              "      <td>Minnesota</td>\n",
              "      <td>Minnesota</td>\n",
              "    </tr>\n",
              "    <tr>\n",
              "      <th>1</th>\n",
              "      <td>Nebraska</td>\n",
              "      <td>North Dakota</td>\n",
              "    </tr>\n",
              "    <tr>\n",
              "      <th>2</th>\n",
              "      <td>Iowa</td>\n",
              "      <td>Virginia</td>\n",
              "    </tr>\n",
              "    <tr>\n",
              "      <th>3</th>\n",
              "      <td>Kansas</td>\n",
              "      <td>Arizona</td>\n",
              "    </tr>\n",
              "    <tr>\n",
              "      <th>4</th>\n",
              "      <td>Puerto Rico</td>\n",
              "      <td>North Carolina</td>\n",
              "    </tr>\n",
              "    <tr>\n",
              "      <th>5</th>\n",
              "      <td>Arizona</td>\n",
              "      <td>Nebraska</td>\n",
              "    </tr>\n",
              "    <tr>\n",
              "      <th>6</th>\n",
              "      <td>North Carolina</td>\n",
              "      <td>Arkansas</td>\n",
              "    </tr>\n",
              "    <tr>\n",
              "      <th>7</th>\n",
              "      <td>Wisconsin</td>\n",
              "      <td>Texas</td>\n",
              "    </tr>\n",
              "    <tr>\n",
              "      <th>8</th>\n",
              "      <td>District of Columbia</td>\n",
              "      <td>Alabama</td>\n",
              "    </tr>\n",
              "    <tr>\n",
              "      <th>9</th>\n",
              "      <td>New Mexico</td>\n",
              "      <td>Wisconsin</td>\n",
              "    </tr>\n",
              "    <tr>\n",
              "      <th>10</th>\n",
              "      <td>Illinois</td>\n",
              "      <td>Iowa</td>\n",
              "    </tr>\n",
              "    <tr>\n",
              "      <th>11</th>\n",
              "      <td>North Dakota</td>\n",
              "      <td>Delaware</td>\n",
              "    </tr>\n",
              "    <tr>\n",
              "      <th>12</th>\n",
              "      <td>Kentucky</td>\n",
              "      <td>New Mexico</td>\n",
              "    </tr>\n",
              "    <tr>\n",
              "      <th>13</th>\n",
              "      <td>Maryland</td>\n",
              "      <td>Maine</td>\n",
              "    </tr>\n",
              "    <tr>\n",
              "      <th>14</th>\n",
              "      <td>California</td>\n",
              "      <td>Illinois</td>\n",
              "    </tr>\n",
              "    <tr>\n",
              "      <th>15</th>\n",
              "      <td>Alabama</td>\n",
              "      <td>Puerto Rico</td>\n",
              "    </tr>\n",
              "    <tr>\n",
              "      <th>16</th>\n",
              "      <td>Virginia</td>\n",
              "      <td>Kentucky</td>\n",
              "    </tr>\n",
              "    <tr>\n",
              "      <th>17</th>\n",
              "      <td>Oregon</td>\n",
              "      <td>Maryland</td>\n",
              "    </tr>\n",
              "    <tr>\n",
              "      <th>18</th>\n",
              "      <td>Indiana</td>\n",
              "      <td>Mississippi</td>\n",
              "    </tr>\n",
              "    <tr>\n",
              "      <th>19</th>\n",
              "      <td>Ohio</td>\n",
              "      <td>California</td>\n",
              "    </tr>\n",
              "  </tbody>\n",
              "</table>\n",
              "</div>"
            ],
            "text/plain": [
              "   Predicted_Province_State Actual_Province_State\n",
              "0                 Minnesota             Minnesota\n",
              "1                  Nebraska          North Dakota\n",
              "2                      Iowa              Virginia\n",
              "3                    Kansas               Arizona\n",
              "4               Puerto Rico        North Carolina\n",
              "5                   Arizona              Nebraska\n",
              "6            North Carolina              Arkansas\n",
              "7                 Wisconsin                 Texas\n",
              "8      District of Columbia               Alabama\n",
              "9                New Mexico             Wisconsin\n",
              "10                 Illinois                  Iowa\n",
              "11             North Dakota              Delaware\n",
              "12                 Kentucky            New Mexico\n",
              "13                 Maryland                 Maine\n",
              "14               California              Illinois\n",
              "15                  Alabama           Puerto Rico\n",
              "16                 Virginia              Kentucky\n",
              "17                   Oregon              Maryland\n",
              "18                  Indiana           Mississippi\n",
              "19                     Ohio            California"
            ]
          },
          "metadata": {
            "tags": []
          },
          "execution_count": 20
        }
      ]
    },
    {
      "cell_type": "code",
      "metadata": {
        "id": "ep1G6QhUTequ",
        "colab_type": "code",
        "colab": {
          "base_uri": "https://localhost:8080/",
          "height": 34
        },
        "outputId": "22733d0a-3b17-4b4a-88a8-263c6026a5cb"
      },
      "source": [
        "true = top20['Predicted_Province_State'].isin(top20['Actual_Province_State'])\n",
        "print(len(np.where(true == True)[0]),'out of Top 20 States are predicted correctly')"
      ],
      "execution_count": 21,
      "outputs": [
        {
          "output_type": "stream",
          "text": [
            "15 out of Top 20 States are predicted correctly\n"
          ],
          "name": "stdout"
        }
      ]
    },
    {
      "cell_type": "markdown",
      "metadata": {
        "id": "p41s8X3u21jM",
        "colab_type": "text"
      },
      "source": [
        "### Our Best Model, could predict the top 20 states with the highest incident rate percentage change over the final 2 weeks in the test set. 15 of these states actually match the Actual states with the highest change in the incident rate between May 10-24."
      ]
    },
    {
      "cell_type": "code",
      "metadata": {
        "id": "ttCdnjTPTeq0",
        "colab_type": "code",
        "colab": {}
      },
      "source": [
        ""
      ],
      "execution_count": 0,
      "outputs": []
    },
    {
      "cell_type": "markdown",
      "metadata": {
        "id": "YsJblhKp3TDP",
        "colab_type": "text"
      },
      "source": [
        ""
      ]
    }
  ],
  "metadata": {
    "kernelspec": {
      "display_name": "Python 3",
      "language": "python",
      "name": "python3"
    },
    "language_info": {
      "codemirror_mode": {
        "name": "ipython",
        "version": 3
      },
      "file_extension": ".py",
      "mimetype": "text/x-python",
      "name": "python",
      "nbconvert_exporter": "python",
      "pygments_lexer": "ipython3",
      "version": "3.7.7-final"
    },
    "colab": {
      "name": "Models_Task2.ipynb",
      "provenance": [],
      "toc_visible": true
    },
    "accelerator": "GPU"
  },
  "nbformat": 4,
  "nbformat_minor": 0
}