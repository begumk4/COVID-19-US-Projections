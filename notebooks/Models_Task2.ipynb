{
 "cells": [
  {
   "cell_type": "markdown",
   "metadata": {},
   "source": [
    "## PREDICTION TASK 2 (Using the Weekly Data)\n",
    "\n",
    "This model uses the weekly dataset that has new additional features like Weekly_Avg_Pct_Home, Incident_Rate_Last_week, Incident_Rate_Pct_Change_Last_week. However due to categorizing the data week by week, the input dataset is smaller than the daily dataset. The goal of the model is to predict top 20 states that will see most change in incident rate over a period of 2 weeks between May 10-24."
   ]
  },
  {
   "cell_type": "code",
   "execution_count": 1,
   "metadata": {},
   "outputs": [
    {
     "name": "stdout",
     "output_type": "stream",
     "text": [
      "TensorFlow version: 2.2.0\n",
      "Eager execution: True\n"
     ]
    }
   ],
   "source": [
    "import pandas as pd\n",
    "import matplotlib as mpl\n",
    "import matplotlib.pyplot as plt\n",
    "import plotnine as p9\n",
    "import mizani\n",
    "import numpy as np\n",
    "from sklearn.preprocessing import StandardScaler, OneHotEncoder, LabelEncoder\n",
    "from sklearn.model_selection import ParameterGrid\n",
    "from sklearn.metrics import mean_absolute_error\n",
    "import sklearn.model_selection as CrossValidate\n",
    "from matplotlib.pyplot import rcParams\n",
    "\n",
    "\n",
    "plt.style.use('ggplot')\n",
    "\n",
    "from sklearn.ensemble import RandomForestRegressor\n",
    "from sklearn.svm import SVR\n",
    "\n",
    "import tensorflow as tf\n",
    "from tensorflow.keras.models import Sequential\n",
    "from tensorflow.keras.layers import Dense\n",
    "from tensorflow.keras.wrappers.scikit_learn import KerasRegressor\n",
    "from sklearn.model_selection import cross_val_score\n",
    "from sklearn.model_selection import KFold\n",
    "\n",
    "from patsy import dmatrices\n",
    "import statsmodels.api as sm\n",
    "\n",
    "\n",
    "print(\"TensorFlow version: {}\".format(tf.__version__))\n",
    "print(\"Eager execution: {}\".format(tf.executing_eagerly()))\n",
    "tf.keras.backend.set_floatx('float64')"
   ]
  },
  {
   "cell_type": "code",
   "execution_count": 2,
   "metadata": {},
   "outputs": [],
   "source": [
    "## Define Poisson loss and gradient\n",
    "\n",
    "def loss(model, x, y, training):\n",
    "    # training=training is needed only if there are layers with different\n",
    "    # behavior during training versus inference (e.g. Dropout).\n",
    "    logits = model(x, training=training)\n",
    "\n",
    "    return tf.keras.losses.poisson(y,logits)\n",
    "\n",
    "\n",
    "## Gradient tape lets TF know with respect to what to take gradients\n",
    "def grad(model, inputs, targets):\n",
    "    with tf.GradientTape() as tape:\n",
    "        loss_value = loss(model, inputs, targets, training=True)\n",
    "    return loss_value, tape.gradient(loss_value, model.trainable_variables)"
   ]
  },
  {
   "cell_type": "code",
   "execution_count": 3,
   "metadata": {},
   "outputs": [],
   "source": [
    "#standardizer function which standardizes the numerical data and encodes the categorical data with One hot encoding\n",
    "def standardize_fit2 (Xin):\n",
    "    #standadizing the numercial values\n",
    "    scaler = StandardScaler()\n",
    "    X = Xin.values[:,1:]\n",
    "    scaler.fit(X)\n",
    "\n",
    "    #standadizing the categorical values\n",
    "    encoder = OneHotEncoder(sparse=False)\n",
    "    X = Xin.values[:,0].reshape(-1, 1)\n",
    "    encoder.fit(X)\n",
    "    categories= encoder.categories_\n",
    "\n",
    "    return categories, scaler, encoder \n",
    "\n",
    "def standardize_transfrom2( Xin, scaler, encoder):\n",
    "    X = Xin.values[:,1:]\n",
    "    X_std_num = np.asarray(scaler.transform(X)).astype(np.float64)\n",
    "    X = Xin.values[:,0].reshape(-1, 1)\n",
    "    X_std_cat =  encoder.transform(X)\n",
    "    return np.concatenate((X_std_cat, X_std_num),axis=1)"
   ]
  },
  {
   "cell_type": "code",
   "execution_count": 4,
   "metadata": {},
   "outputs": [
    {
     "name": "stdout",
     "output_type": "stream",
     "text": [
      "(436, 6)\n",
      "(436, 2)\n",
      "(104, 6)\n",
      "(104, 2)\n"
     ]
    }
   ],
   "source": [
    "#importing the train set\n",
    "X_tr = pd.read_csv('../data/X_weekly_tr.csv')   \n",
    "y_tr = pd.read_csv('../data/y_weekly_change_tr.csv') \n",
    "print(X_tr.shape)\n",
    "print(y_tr.shape)\n",
    "\n",
    "#importing the test set\n",
    "X_te = pd.read_csv('../data/X_weekly_te.csv')   \n",
    "y_te = pd.read_csv('../data/y_weekly_change_te.csv') \n",
    "print(X_te.shape)\n",
    "print(y_te.shape)"
   ]
  },
  {
   "cell_type": "code",
   "execution_count": 5,
   "metadata": {},
   "outputs": [],
   "source": [
    "train_timestamps = X_tr['Date'].values\n",
    "test_timestamps = X_te['Date'].values"
   ]
  },
  {
   "cell_type": "code",
   "execution_count": 6,
   "metadata": {},
   "outputs": [],
   "source": [
    "X_tr = X_tr.drop(['Date'], axis=1)\n",
    "y_tr = y_tr.drop(['Date'], axis=1)\n",
    "X_te = X_te.drop(['Date'], axis=1)\n",
    "y_te = y_te.drop(['Date'], axis=1)"
   ]
  },
  {
   "cell_type": "code",
   "execution_count": 115,
   "metadata": {},
   "outputs": [
    {
     "name": "stdout",
     "output_type": "stream",
     "text": [
      "number of nulls left in X_tr is  0\n",
      "number of nulls left in X_te is  0\n"
     ]
    }
   ],
   "source": [
    "# just to make sure if any Null is left\n",
    "print (\"number of nulls left in X_tr is \", len(X_tr[X_tr.isnull().values == True].head()))\n",
    "print (\"number of nulls left in X_te is \", len(X_te[X_te.isnull().values == True].head()))"
   ]
  },
  {
   "cell_type": "code",
   "execution_count": 116,
   "metadata": {},
   "outputs": [
    {
     "name": "stdout",
     "output_type": "stream",
     "text": [
      "<class 'pandas.core.frame.DataFrame'>\n",
      "RangeIndex: 436 entries, 0 to 435\n",
      "Data columns (total 5 columns):\n",
      " #   Column                              Non-Null Count  Dtype  \n",
      "---  ------                              --------------  -----  \n",
      " 0   Province_State                      436 non-null    object \n",
      " 1   Weekly_Avg_Pct_Home                 436 non-null    float64\n",
      " 2   Elapsed_Days                        436 non-null    int64  \n",
      " 3   Incident_Rate_Last_week             436 non-null    float64\n",
      " 4   Incident_Rate_Pct_Change_Last_week  436 non-null    float64\n",
      "dtypes: float64(3), int64(1), object(1)\n",
      "memory usage: 17.2+ KB\n"
     ]
    }
   ],
   "source": [
    "X_tr.info()"
   ]
  },
  {
   "cell_type": "code",
   "execution_count": 114,
   "metadata": {},
   "outputs": [
    {
     "data": {
      "text/html": [
       "<div>\n",
       "<style scoped>\n",
       "    .dataframe tbody tr th:only-of-type {\n",
       "        vertical-align: middle;\n",
       "    }\n",
       "\n",
       "    .dataframe tbody tr th {\n",
       "        vertical-align: top;\n",
       "    }\n",
       "\n",
       "    .dataframe thead th {\n",
       "        text-align: right;\n",
       "    }\n",
       "</style>\n",
       "<table border=\"1\" class=\"dataframe\">\n",
       "  <thead>\n",
       "    <tr style=\"text-align: right;\">\n",
       "      <th></th>\n",
       "      <th>Weekly_Avg_Pct_Home</th>\n",
       "      <th>Elapsed_Days</th>\n",
       "      <th>Incident_Rate_Last_week</th>\n",
       "      <th>Incident_Rate_Pct_Change_Last_week</th>\n",
       "    </tr>\n",
       "  </thead>\n",
       "  <tbody>\n",
       "    <tr>\n",
       "      <th>count</th>\n",
       "      <td>436.000000</td>\n",
       "      <td>436.000000</td>\n",
       "      <td>436.000000</td>\n",
       "      <td>436.000000</td>\n",
       "    </tr>\n",
       "    <tr>\n",
       "      <th>mean</th>\n",
       "      <td>36.968382</td>\n",
       "      <td>29.350917</td>\n",
       "      <td>115.964551</td>\n",
       "      <td>2.897401</td>\n",
       "    </tr>\n",
       "    <tr>\n",
       "      <th>std</th>\n",
       "      <td>6.596189</td>\n",
       "      <td>17.847071</td>\n",
       "      <td>212.076329</td>\n",
       "      <td>4.995127</td>\n",
       "    </tr>\n",
       "    <tr>\n",
       "      <th>min</th>\n",
       "      <td>21.758841</td>\n",
       "      <td>0.000000</td>\n",
       "      <td>0.003449</td>\n",
       "      <td>0.000000</td>\n",
       "    </tr>\n",
       "    <tr>\n",
       "      <th>25%</th>\n",
       "      <td>32.912088</td>\n",
       "      <td>14.000000</td>\n",
       "      <td>6.271094</td>\n",
       "      <td>0.333152</td>\n",
       "    </tr>\n",
       "    <tr>\n",
       "      <th>50%</th>\n",
       "      <td>37.020951</td>\n",
       "      <td>29.000000</td>\n",
       "      <td>45.478209</td>\n",
       "      <td>0.857425</td>\n",
       "    </tr>\n",
       "    <tr>\n",
       "      <th>75%</th>\n",
       "      <td>41.261225</td>\n",
       "      <td>45.000000</td>\n",
       "      <td>121.404014</td>\n",
       "      <td>3.256551</td>\n",
       "    </tr>\n",
       "    <tr>\n",
       "      <th>max</th>\n",
       "      <td>61.343387</td>\n",
       "      <td>67.000000</td>\n",
       "      <td>1626.514549</td>\n",
       "      <td>34.000000</td>\n",
       "    </tr>\n",
       "  </tbody>\n",
       "</table>\n",
       "</div>"
      ],
      "text/plain": [
       "       Weekly_Avg_Pct_Home  Elapsed_Days  Incident_Rate_Last_week  \\\n",
       "count           436.000000    436.000000               436.000000   \n",
       "mean             36.968382     29.350917               115.964551   \n",
       "std               6.596189     17.847071               212.076329   \n",
       "min              21.758841      0.000000                 0.003449   \n",
       "25%              32.912088     14.000000                 6.271094   \n",
       "50%              37.020951     29.000000                45.478209   \n",
       "75%              41.261225     45.000000               121.404014   \n",
       "max              61.343387     67.000000              1626.514549   \n",
       "\n",
       "       Incident_Rate_Pct_Change_Last_week  \n",
       "count                          436.000000  \n",
       "mean                             2.897401  \n",
       "std                              4.995127  \n",
       "min                              0.000000  \n",
       "25%                              0.333152  \n",
       "50%                              0.857425  \n",
       "75%                              3.256551  \n",
       "max                             34.000000  "
      ]
     },
     "execution_count": 114,
     "metadata": {},
     "output_type": "execute_result"
    }
   ],
   "source": [
    "X_tr.describe()"
   ]
  },
  {
   "cell_type": "code",
   "execution_count": 117,
   "metadata": {},
   "outputs": [
    {
     "name": "stdout",
     "output_type": "stream",
     "text": [
      "<class 'pandas.core.frame.DataFrame'>\n",
      "RangeIndex: 436 entries, 0 to 435\n",
      "Data columns (total 1 columns):\n",
      " #   Column                           Non-Null Count  Dtype  \n",
      "---  ------                           --------------  -----  \n",
      " 0   Weekly_Incident_Rate_Pct_Change  436 non-null    float64\n",
      "dtypes: float64(1)\n",
      "memory usage: 3.5 KB\n"
     ]
    }
   ],
   "source": [
    "y_tr.info()"
   ]
  },
  {
   "cell_type": "code",
   "execution_count": 10,
   "metadata": {},
   "outputs": [
    {
     "data": {
      "text/html": [
       "<div>\n",
       "<style scoped>\n",
       "    .dataframe tbody tr th:only-of-type {\n",
       "        vertical-align: middle;\n",
       "    }\n",
       "\n",
       "    .dataframe tbody tr th {\n",
       "        vertical-align: top;\n",
       "    }\n",
       "\n",
       "    .dataframe thead th {\n",
       "        text-align: right;\n",
       "    }\n",
       "</style>\n",
       "<table border=\"1\" class=\"dataframe\">\n",
       "  <thead>\n",
       "    <tr style=\"text-align: right;\">\n",
       "      <th></th>\n",
       "      <th>Weekly_Incident_Rate_Pct_Change</th>\n",
       "    </tr>\n",
       "  </thead>\n",
       "  <tbody>\n",
       "    <tr>\n",
       "      <th>count</th>\n",
       "      <td>436.000000</td>\n",
       "    </tr>\n",
       "    <tr>\n",
       "      <th>mean</th>\n",
       "      <td>1.753532</td>\n",
       "    </tr>\n",
       "    <tr>\n",
       "      <th>std</th>\n",
       "      <td>3.187174</td>\n",
       "    </tr>\n",
       "    <tr>\n",
       "      <th>min</th>\n",
       "      <td>0.000000</td>\n",
       "    </tr>\n",
       "    <tr>\n",
       "      <th>25%</th>\n",
       "      <td>0.254785</td>\n",
       "    </tr>\n",
       "    <tr>\n",
       "      <th>50%</th>\n",
       "      <td>0.500422</td>\n",
       "    </tr>\n",
       "    <tr>\n",
       "      <th>75%</th>\n",
       "      <td>1.890815</td>\n",
       "    </tr>\n",
       "    <tr>\n",
       "      <th>max</th>\n",
       "      <td>31.000000</td>\n",
       "    </tr>\n",
       "  </tbody>\n",
       "</table>\n",
       "</div>"
      ],
      "text/plain": [
       "       Weekly_Incident_Rate_Pct_Change\n",
       "count                       436.000000\n",
       "mean                          1.753532\n",
       "std                           3.187174\n",
       "min                           0.000000\n",
       "25%                           0.254785\n",
       "50%                           0.500422\n",
       "75%                           1.890815\n",
       "max                          31.000000"
      ]
     },
     "execution_count": 10,
     "metadata": {},
     "output_type": "execute_result"
    }
   ],
   "source": [
    "y_tr.describe()"
   ]
  },
  {
   "cell_type": "code",
   "execution_count": 21,
   "metadata": {},
   "outputs": [
    {
     "name": "stdout",
     "output_type": "stream",
     "text": [
      "(104, 56)\n",
      "(436, 56)\n"
     ]
    }
   ],
   "source": [
    "#standardizing the test data from the previously fitted standardizers\n",
    "#X_te_std1 = standardize_transfrom1(X_te, scaler, encoder1)\n",
    "categories, scaler, encoder2 = standardize_fit2(X_tr)\n",
    "X_tr_std2 = standardize_transfrom2(X_tr, scaler, encoder2)\n",
    "X_te_std2 = standardize_transfrom2(X_te, scaler, encoder2)\n",
    "# using the standardized data with sparse matrix for the categorized data (One hot encoded)\n",
    "X_te_std = X_te_std2\n",
    "X_tr_std = X_tr_std2\n",
    "print(X_te_std.shape)\n",
    "print(X_tr_std.shape)\n",
    "\n",
    "#scaler = StandardScaler()\n",
    "#scaler.fit(y_tr)\n",
    "#y_tr_std = scaler.transform(y_tr)\n",
    "\n",
    "#scaler = StandardScaler()\n",
    "#scaler.fit(y_te)\n",
    "#y_te_std = scaler.transform(y_te)"
   ]
  },
  {
   "cell_type": "code",
   "execution_count": 22,
   "metadata": {},
   "outputs": [],
   "source": [
    "train_dataset = tf.data.Dataset.from_tensor_slices((X_tr_std,y_tr))\n",
    "test_dataset = tf.data.Dataset.from_tensor_slices((X_te_std,y_te))\n",
    "\n",
    "batch_size = 8\n",
    "\n",
    "#train_dataset_house = train_dataset_house.shuffle(buffer_size=len(X_tr))\n",
    "train_dataset = train_dataset.batch(batch_size)\n",
    "#test_dataset_house = test_dataset_house.shuffle(buffer_size=len(X_te))\n",
    "test_dataset= test_dataset.batch(batch_size)"
   ]
  },
  {
   "cell_type": "code",
   "execution_count": 67,
   "metadata": {},
   "outputs": [],
   "source": [
    "model = tf.keras.Sequential([\n",
    "  tf.keras.layers.Dense(64,activation=\"sigmoid\"), \n",
    "  tf.keras.layers.Dense(32,activation=\"sigmoid\"),\n",
    "  tf.keras.layers.Dense(1, activation=\"sigmoid\")\n",
    "])"
   ]
  },
  {
   "cell_type": "code",
   "execution_count": 68,
   "metadata": {},
   "outputs": [
    {
     "name": "stdout",
     "output_type": "stream",
     "text": [
      "Model: \"sequential_4\"\n",
      "_________________________________________________________________\n",
      "Layer (type)                 Output Shape              Param #   \n",
      "=================================================================\n",
      "dense_15 (Dense)             multiple                  3648      \n",
      "_________________________________________________________________\n",
      "dense_16 (Dense)             multiple                  2080      \n",
      "_________________________________________________________________\n",
      "dense_17 (Dense)             multiple                  33        \n",
      "=================================================================\n",
      "Total params: 5,761\n",
      "Trainable params: 5,761\n",
      "Non-trainable params: 0\n",
      "_________________________________________________________________\n"
     ]
    }
   ],
   "source": [
    "logits = model(X_tr_std)\n",
    "model.summary()"
   ]
  },
  {
   "cell_type": "code",
   "execution_count": 69,
   "metadata": {},
   "outputs": [
    {
     "name": "stdout",
     "output_type": "stream",
     "text": [
      "Epoch 000: Loss: 1.585\n",
      "Epoch 100: Loss: 0.815\n",
      "Epoch 200: Loss: 0.809\n"
     ]
    }
   ],
   "source": [
    "## Training Model\n",
    "train_loss_results = []\n",
    "train_accuracy_results = []\n",
    "num_epochs = 300\n",
    "\n",
    "\n",
    "optimizer = tf.keras.optimizers.Adam()\n",
    "\n",
    "for epoch in range(num_epochs):\n",
    "    epoch_loss_avg = tf.keras.metrics.Mean()\n",
    "    epoch_accuracy = tf.keras.metrics.MeanAbsoluteError()\n",
    "    \n",
    "    # Training loop - using batches of 8\n",
    "    for x, y in train_dataset:\n",
    "        # Optimize the model\n",
    "        loss_value, grads = grad(model, x, y)\n",
    "        optimizer.apply_gradients(zip(grads, model.trainable_variables))       \n",
    "\n",
    "        # Track progress\n",
    "        epoch_loss_avg.update_state(loss_value)  # Add current batch loss\n",
    "        epoch_accuracy.update_state(y, model(x, training=True))\n",
    "\n",
    "    # End epoch\n",
    "    train_loss_results.append(epoch_loss_avg.result())\n",
    "    train_accuracy_results.append(epoch_accuracy.result())\n",
    "\n",
    "    if epoch % 100 == 0:\n",
    "        print(\"Epoch {:03d}: Loss: {:.3f}\".format(epoch,epoch_loss_avg.result()))\n",
    "\n"
   ]
  },
  {
   "cell_type": "code",
   "execution_count": 118,
   "metadata": {},
   "outputs": [
    {
     "data": {
      "image/png": "[encoded data removed]",
      "text/plain": [
       "<Figure size 864x576 with 2 Axes>"
      ]
     },
     "metadata": {},
     "output_type": "display_data"
    }
   ],
   "source": [
    "fig, axes = plt.subplots(2, sharex=True, figsize=(12, 8))\n",
    "fig.suptitle('Training Metrics for Model with ReLu and Sigmoid Activation, 2 hidden layers')\n",
    "\n",
    "axes[0].set_ylabel(\"Poisson Loss\", fontsize=14)\n",
    "axes[0].plot(train_loss_results)\n",
    "\n",
    "axes[1].set_ylabel(\"Mean Absolute Error\", fontsize=14)\n",
    "axes[1].set_xlabel(\"Epoch\", fontsize=14)\n",
    "axes[1].plot(train_accuracy_results)\n",
    "plt.show()"
   ]
  },
  {
   "cell_type": "code",
   "execution_count": 71,
   "metadata": {},
   "outputs": [],
   "source": [
    "def x_with_ppreds(X,model):\n",
    "    x_df = pd.DataFrame(X.numpy())\n",
    "    p_preds = (model(X,training=False)).numpy()\n",
    "    x_df['p_pred'] = p_preds\n",
    "    return x_df"
   ]
  },
  {
   "cell_type": "code",
   "execution_count": 72,
   "metadata": {},
   "outputs": [],
   "source": [
    "## Compute test loss\n",
    "test_loss_results = []\n",
    "test_accuracy_results = []\n",
    "\n",
    "test_loss_avg = tf.keras.metrics.Mean()\n",
    "test_accuracy = tf.keras.metrics.MeanAbsoluteError()\n",
    "for (x, y) in test_dataset:\n",
    "    # training=False is needed only if there are layers with different\n",
    "    # behavior during training versus inference (e.g. Dropout). = \n",
    "    test_loss_avg.update_state(loss(model, x, y, training=False))\n",
    "    test_accuracy.update_state(y, model(x, training=False))\n",
    "test_loss_results.append(test_loss_avg.result())\n",
    "test_accuracy_results.append(test_accuracy.result())"
   ]
  },
  {
   "cell_type": "code",
   "execution_count": 73,
   "metadata": {},
   "outputs": [
    {
     "name": "stdout",
     "output_type": "stream",
     "text": [
      "Test set MAE Model1: 0.034903\n",
      "Test set Poisson Loss Model1: 0.41634\n"
     ]
    }
   ],
   "source": [
    "print(\"Test set MAE Model{:01d}: {:.5}\".format(1,test_accuracy_results[0]))\n",
    "print(\"Test set Poisson Loss Model{:01d}: {:.5}\".format(1,test_loss_results[0]))"
   ]
  },
  {
   "cell_type": "code",
   "execution_count": 113,
   "metadata": {},
   "outputs": [],
   "source": [
    "pred_df = pd.concat(x_with_ppreds(x,model) for (x,y) in test_dataset)\n",
    "#pred_df"
   ]
  },
  {
   "cell_type": "code",
   "execution_count": 88,
   "metadata": {},
   "outputs": [],
   "source": [
    "values_pred,indices_pred = tf.math.top_k(pred_df['p_pred'],k=28)\n",
    "indices_pred = np.asarray(indices_pred)\n",
    "\n",
    "values,indices = tf.math.top_k(y_te['Weekly_Incident_Rate_Pct_Change'],k=30)\n",
    "indices = np.asarray(indices)\n",
    "\n",
    "top20 = pd.DataFrame()\n",
    "top20['Predicted_Province_State'] = pd.Series([X_te.loc[i,'Province_State'] for i in indices_pred]).unique()\n",
    "top20['Actual_Province_State'] = pd.Series([X_te.loc[i,'Province_State'] for i in indices]).unique()\n",
    "\n",
    "#print([X_te.loc[i,'Province_State'] for i in indices])\n",
    "#print(values)"
   ]
  },
  {
   "cell_type": "code",
   "execution_count": 91,
   "metadata": {},
   "outputs": [
    {
     "name": "stdout",
     "output_type": "stream",
     "text": [
      "Top 20 States with highest incident rate change between May 10 to May 24\n"
     ]
    },
    {
     "data": {
      "text/html": [
       "<div>\n",
       "<style scoped>\n",
       "    .dataframe tbody tr th:only-of-type {\n",
       "        vertical-align: middle;\n",
       "    }\n",
       "\n",
       "    .dataframe tbody tr th {\n",
       "        vertical-align: top;\n",
       "    }\n",
       "\n",
       "    .dataframe thead th {\n",
       "        text-align: right;\n",
       "    }\n",
       "</style>\n",
       "<table border=\"1\" class=\"dataframe\">\n",
       "  <thead>\n",
       "    <tr style=\"text-align: right;\">\n",
       "      <th></th>\n",
       "      <th>Predicted_Province_State</th>\n",
       "      <th>Actual_Province_State</th>\n",
       "    </tr>\n",
       "  </thead>\n",
       "  <tbody>\n",
       "    <tr>\n",
       "      <th>0</th>\n",
       "      <td>Minnesota</td>\n",
       "      <td>Minnesota</td>\n",
       "    </tr>\n",
       "    <tr>\n",
       "      <th>1</th>\n",
       "      <td>Kansas</td>\n",
       "      <td>North Dakota</td>\n",
       "    </tr>\n",
       "    <tr>\n",
       "      <th>2</th>\n",
       "      <td>Arizona</td>\n",
       "      <td>Virginia</td>\n",
       "    </tr>\n",
       "    <tr>\n",
       "      <th>3</th>\n",
       "      <td>District of Columbia</td>\n",
       "      <td>Arizona</td>\n",
       "    </tr>\n",
       "    <tr>\n",
       "      <th>4</th>\n",
       "      <td>Nebraska</td>\n",
       "      <td>North Carolina</td>\n",
       "    </tr>\n",
       "    <tr>\n",
       "      <th>5</th>\n",
       "      <td>North Dakota</td>\n",
       "      <td>Nebraska</td>\n",
       "    </tr>\n",
       "    <tr>\n",
       "      <th>6</th>\n",
       "      <td>Wisconsin</td>\n",
       "      <td>Arkansas</td>\n",
       "    </tr>\n",
       "    <tr>\n",
       "      <th>7</th>\n",
       "      <td>Virginia</td>\n",
       "      <td>Texas</td>\n",
       "    </tr>\n",
       "    <tr>\n",
       "      <th>8</th>\n",
       "      <td>Iowa</td>\n",
       "      <td>Alabama</td>\n",
       "    </tr>\n",
       "    <tr>\n",
       "      <th>9</th>\n",
       "      <td>New Mexico</td>\n",
       "      <td>Wisconsin</td>\n",
       "    </tr>\n",
       "    <tr>\n",
       "      <th>10</th>\n",
       "      <td>North Carolina</td>\n",
       "      <td>Iowa</td>\n",
       "    </tr>\n",
       "    <tr>\n",
       "      <th>11</th>\n",
       "      <td>Puerto Rico</td>\n",
       "      <td>Delaware</td>\n",
       "    </tr>\n",
       "    <tr>\n",
       "      <th>12</th>\n",
       "      <td>New Hampshire</td>\n",
       "      <td>New Mexico</td>\n",
       "    </tr>\n",
       "    <tr>\n",
       "      <th>13</th>\n",
       "      <td>Maryland</td>\n",
       "      <td>Maine</td>\n",
       "    </tr>\n",
       "    <tr>\n",
       "      <th>14</th>\n",
       "      <td>California</td>\n",
       "      <td>Illinois</td>\n",
       "    </tr>\n",
       "    <tr>\n",
       "      <th>15</th>\n",
       "      <td>Ohio</td>\n",
       "      <td>Puerto Rico</td>\n",
       "    </tr>\n",
       "    <tr>\n",
       "      <th>16</th>\n",
       "      <td>Kentucky</td>\n",
       "      <td>Kentucky</td>\n",
       "    </tr>\n",
       "    <tr>\n",
       "      <th>17</th>\n",
       "      <td>Texas</td>\n",
       "      <td>Maryland</td>\n",
       "    </tr>\n",
       "    <tr>\n",
       "      <th>18</th>\n",
       "      <td>Illinois</td>\n",
       "      <td>Mississippi</td>\n",
       "    </tr>\n",
       "    <tr>\n",
       "      <th>19</th>\n",
       "      <td>Tennessee</td>\n",
       "      <td>California</td>\n",
       "    </tr>\n",
       "  </tbody>\n",
       "</table>\n",
       "</div>"
      ],
      "text/plain": [
       "   Predicted_Province_State Actual_Province_State\n",
       "0                 Minnesota             Minnesota\n",
       "1                    Kansas          North Dakota\n",
       "2                   Arizona              Virginia\n",
       "3      District of Columbia               Arizona\n",
       "4                  Nebraska        North Carolina\n",
       "5              North Dakota              Nebraska\n",
       "6                 Wisconsin              Arkansas\n",
       "7                  Virginia                 Texas\n",
       "8                      Iowa               Alabama\n",
       "9                New Mexico             Wisconsin\n",
       "10           North Carolina                  Iowa\n",
       "11              Puerto Rico              Delaware\n",
       "12            New Hampshire            New Mexico\n",
       "13                 Maryland                 Maine\n",
       "14               California              Illinois\n",
       "15                     Ohio           Puerto Rico\n",
       "16                 Kentucky              Kentucky\n",
       "17                    Texas              Maryland\n",
       "18                 Illinois           Mississippi\n",
       "19                Tennessee            California"
      ]
     },
     "execution_count": 91,
     "metadata": {},
     "output_type": "execute_result"
    }
   ],
   "source": [
    "print('Top 20 States with highest incident rate change between May 10 to May 24')\n",
    "top20"
   ]
  },
  {
   "cell_type": "code",
   "execution_count": 112,
   "metadata": {},
   "outputs": [
    {
     "name": "stdout",
     "output_type": "stream",
     "text": [
      "15 out of Top 20 States are predicted correctly\n"
     ]
    }
   ],
   "source": [
    "true = top20['Predicted_Province_State'].isin(top20['Actual_Province_State'])\n",
    "print(len(np.where(true == True)[0]),'out of Top 20 States are predicted correctly')"
   ]
  },
  {
   "cell_type": "code",
   "execution_count": null,
   "metadata": {},
   "outputs": [],
   "source": []
  }
 ],
 "metadata": {
  "kernelspec": {
   "display_name": "Python 3",
   "language": "python",
   "name": "python3"
  },
  "language_info": {
   "codemirror_mode": {
    "name": "ipython",
    "version": 3
   },
   "file_extension": ".py",
   "mimetype": "text/x-python",
   "name": "python",
   "nbconvert_exporter": "python",
   "pygments_lexer": "ipython3",
   "version": "3.7.0"
  }
 },
 "nbformat": 4,
 "nbformat_minor": 4
}
